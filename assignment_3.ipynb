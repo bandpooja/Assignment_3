{
  "nbformat": 4,
  "nbformat_minor": 0,
  "metadata": {
    "colab": {
      "name": "assignment_3.ipynb",
      "provenance": [],
      "collapsed_sections": []
    },
    "kernelspec": {
      "name": "python3",
      "display_name": "Python 3"
    },
    "language_info": {
      "name": "python"
    }
  },
  "cells": [
    {
      "cell_type": "markdown",
      "source": [
        "# Assignmet - 3\n",
        "\n",
        "Pooja Bandal\n",
        "\n",
        "12th. March, 2022\n",
        "\n",
        "----\n",
        "\n",
        "### Start by cloning the repository"
      ],
      "metadata": {
        "id": "NkLGgs_0p4rq"
      }
    },
    {
      "cell_type": "code",
      "execution_count": 3,
      "metadata": {
        "colab": {
          "base_uri": "https://localhost:8080/"
        },
        "id": "ZuARA7Iujk7t",
        "outputId": "8c8eecf0-942c-4ae8-dda4-b0e33d60d82b"
      },
      "outputs": [
        {
          "output_type": "stream",
          "name": "stdout",
          "text": [
            "Cloning into 'Assignment_3'...\n",
            "remote: Enumerating objects: 99, done.\u001b[K\n",
            "remote: Counting objects: 100% (99/99), done.\u001b[K\n",
            "remote: Compressing objects: 100% (80/80), done.\u001b[K\n",
            "remote: Total 99 (delta 33), reused 56 (delta 12), pack-reused 0\u001b[K\n",
            "Unpacking objects: 100% (99/99), done.\n"
          ]
        }
      ],
      "source": [
        "!git clone https://github.com/bandpooja/Assignment_3.git"
      ]
    },
    {
      "cell_type": "markdown",
      "source": [
        "### Install all the requirements"
      ],
      "metadata": {
        "id": "8uGbK1_GqYso"
      }
    },
    {
      "cell_type": "code",
      "source": [
        "!pip install -r 'Assignment_3/requirements.txt'"
      ],
      "metadata": {
        "colab": {
          "base_uri": "https://localhost:8080/"
        },
        "id": "FbEfj1saj1ep",
        "outputId": "de0c9b96-38c9-4971-e562-d13d0f769a13"
      },
      "execution_count": 4,
      "outputs": [
        {
          "output_type": "stream",
          "name": "stdout",
          "text": [
            "Requirement already satisfied: nltk~=3.2.5 in /usr/local/lib/python3.7/dist-packages (from -r Assignment_3/requirements.txt (line 1)) (3.2.5)\n",
            "Collecting pytrec-eval-terrier\n",
            "  Downloading pytrec_eval_terrier-0.5.2-cp37-cp37m-manylinux2010_x86_64.whl (287 kB)\n",
            "\u001b[K     |████████████████████████████████| 287 kB 5.4 MB/s \n",
            "\u001b[?25hRequirement already satisfied: numpy in /usr/local/lib/python3.7/dist-packages (from -r Assignment_3/requirements.txt (line 3)) (1.21.5)\n",
            "Requirement already satisfied: pandas in /usr/local/lib/python3.7/dist-packages (from -r Assignment_3/requirements.txt (line 4)) (1.3.5)\n",
            "Requirement already satisfied: seaborn in /usr/local/lib/python3.7/dist-packages (from -r Assignment_3/requirements.txt (line 5)) (0.11.2)\n",
            "Requirement already satisfied: matplotlib in /usr/local/lib/python3.7/dist-packages (from -r Assignment_3/requirements.txt (line 6)) (3.2.2)\n",
            "Requirement already satisfied: gensim in /usr/local/lib/python3.7/dist-packages (from -r Assignment_3/requirements.txt (line 7)) (3.6.0)\n",
            "Requirement already satisfied: scikit-learn in /usr/local/lib/python3.7/dist-packages (from -r Assignment_3/requirements.txt (line 8)) (1.0.2)\n",
            "Requirement already satisfied: six in /usr/local/lib/python3.7/dist-packages (from nltk~=3.2.5->-r Assignment_3/requirements.txt (line 1)) (1.15.0)\n",
            "Requirement already satisfied: python-dateutil>=2.7.3 in /usr/local/lib/python3.7/dist-packages (from pandas->-r Assignment_3/requirements.txt (line 4)) (2.8.2)\n",
            "Requirement already satisfied: pytz>=2017.3 in /usr/local/lib/python3.7/dist-packages (from pandas->-r Assignment_3/requirements.txt (line 4)) (2018.9)\n",
            "Requirement already satisfied: scipy>=1.0 in /usr/local/lib/python3.7/dist-packages (from seaborn->-r Assignment_3/requirements.txt (line 5)) (1.4.1)\n",
            "Requirement already satisfied: pyparsing!=2.0.4,!=2.1.2,!=2.1.6,>=2.0.1 in /usr/local/lib/python3.7/dist-packages (from matplotlib->-r Assignment_3/requirements.txt (line 6)) (3.0.7)\n",
            "Requirement already satisfied: kiwisolver>=1.0.1 in /usr/local/lib/python3.7/dist-packages (from matplotlib->-r Assignment_3/requirements.txt (line 6)) (1.4.0)\n",
            "Requirement already satisfied: cycler>=0.10 in /usr/local/lib/python3.7/dist-packages (from matplotlib->-r Assignment_3/requirements.txt (line 6)) (0.11.0)\n",
            "Requirement already satisfied: typing-extensions in /usr/local/lib/python3.7/dist-packages (from kiwisolver>=1.0.1->matplotlib->-r Assignment_3/requirements.txt (line 6)) (3.10.0.2)\n",
            "Requirement already satisfied: smart-open>=1.2.1 in /usr/local/lib/python3.7/dist-packages (from gensim->-r Assignment_3/requirements.txt (line 7)) (5.2.1)\n",
            "Requirement already satisfied: threadpoolctl>=2.0.0 in /usr/local/lib/python3.7/dist-packages (from scikit-learn->-r Assignment_3/requirements.txt (line 8)) (3.1.0)\n",
            "Requirement already satisfied: joblib>=0.11 in /usr/local/lib/python3.7/dist-packages (from scikit-learn->-r Assignment_3/requirements.txt (line 8)) (1.1.0)\n",
            "Installing collected packages: pytrec-eval-terrier\n",
            "Successfully installed pytrec-eval-terrier-0.5.2\n"
          ]
        }
      ]
    },
    {
      "cell_type": "markdown",
      "source": [
        "### Import the modules"
      ],
      "metadata": {
        "id": "A_TKZjE8qdPj"
      }
    },
    {
      "cell_type": "code",
      "source": [
        "import sys\n",
        "sys.path.append('./Assignment_3')\n",
        "from assignment_3 import Assignment3"
      ],
      "metadata": {
        "colab": {
          "base_uri": "https://localhost:8080/"
        },
        "id": "fOIRO-aRkZcP",
        "outputId": "b758516e-a8e1-4c71-dd2a-bda024064cdf"
      },
      "execution_count": 5,
      "outputs": [
        {
          "output_type": "stream",
          "name": "stdout",
          "text": [
            "[nltk_data] Downloading package brown to /root/nltk_data...\n",
            "[nltk_data]   Unzipping corpora/brown.zip.\n",
            "[nltk_data] Downloading package perluniprops to /root/nltk_data...\n",
            "[nltk_data]   Unzipping misc/perluniprops.zip.\n"
          ]
        }
      ]
    },
    {
      "cell_type": "code",
      "source": [
        "import matplotlib.pyplot as plt\n",
        "import os\n",
        "import os.path as osp\n",
        "from tqdm import tqdm\n",
        "import warnings"
      ],
      "metadata": {
        "id": "n38DrwqRlC32"
      },
      "execution_count": 6,
      "outputs": []
    },
    {
      "cell_type": "markdown",
      "source": [
        "### Run the experiment"
      ],
      "metadata": {
        "id": "sTep3pfGqhl6"
      }
    },
    {
      "cell_type": "code",
      "source": [
        "warnings.filterwarnings(\"ignore\")\n",
        "model_loc = 'result'\n",
        "corpora = ['news', 'romance']\n",
        "# load the simlex data\n",
        "\n",
        "results = {}\n",
        "for corpus in tqdm(corpora, desc='Fitting for corpus'):\n",
        "    results[corpus] = {}\n",
        "    model_loc_ = osp.join(model_loc, corpus)\n",
        "    os.makedirs(model_loc_, exist_ok=True)\n",
        "\n",
        "    exp = Assignment3(model_loc_, corpus=corpus, \n",
        "                      file_loc=r'./Assignment_3/data/SimLex-999.txt')\n",
        "    exp.load_simlex_data()\n",
        "    exp.initiate_evaluator()\n",
        "    exp.load_data()\n",
        "    ms = exp.tfidf()\n",
        "    results[corpus]['tfidf'] = ms\n",
        "    ms = exp.word2vec()\n",
        "    results[corpus]['word2vec'] = ms"
      ],
      "metadata": {
        "colab": {
          "base_uri": "https://localhost:8080/"
        },
        "id": "eoJpd33Pky97",
        "outputId": "66dce371-6f19-4ae4-9708-684f71c1994f"
      },
      "execution_count": 7,
      "outputs": [
        {
          "output_type": "stream",
          "name": "stderr",
          "text": [
            "\rFitting for corpus:   0%|          | 0/2 [00:00<?, ?it/s]"
          ]
        },
        {
          "output_type": "stream",
          "name": "stdout",
          "text": [
            "######## Simlex - loaded dataframe########\n",
            "   word1        word2 SimLex999\n",
            "0    old          new      1.58\n",
            "1  smart  intelligent       9.2\n",
            "2   hard    difficult      8.77\n",
            "3  happy     cheerful      9.55\n",
            "4   hard         easy      0.95\n"
          ]
        },
        {
          "output_type": "stream",
          "name": "stderr",
          "text": [
            "\n",
            "Combining outputs: 100%|██████████| 616/616 [00:00<00:00, 53785.44it/s]\n",
            "Fitting for corpus:  50%|█████     | 1/2 [00:29<00:29, 29.62s/it]"
          ]
        },
        {
          "output_type": "stream",
          "name": "stdout",
          "text": [
            "######## Simlex - loaded dataframe########\n",
            "   word1        word2 SimLex999\n",
            "0    old          new      1.58\n",
            "1  smart  intelligent       9.2\n",
            "2   hard    difficult      8.77\n",
            "3  happy     cheerful      9.55\n",
            "4   hard         easy      0.95\n"
          ]
        },
        {
          "output_type": "stream",
          "name": "stderr",
          "text": [
            "\n",
            "Combining outputs: 100%|██████████| 616/616 [00:00<00:00, 97449.98it/s]\n",
            "Fitting for corpus: 100%|██████████| 2/2 [02:30<00:00, 75.18s/it]"
          ]
        },
        {
          "output_type": "stream",
          "name": "stderr",
          "text": [
            "\n"
          ]
        }
      ]
    },
    {
      "cell_type": "code",
      "source": [
        "print(results)"
      ],
      "metadata": {
        "colab": {
          "base_uri": "https://localhost:8080/"
        },
        "id": "0_ppcfIlpfxT",
        "outputId": "3402f970-f8ee-4e77-92ce-20b927464b8d"
      },
      "execution_count": 8,
      "outputs": [
        {
          "output_type": "stream",
          "name": "stdout",
          "text": [
            "{'news': {'tfidf': {'ndcg average': 0.008722901990314438}, 'word2vec': {'ndcg average': 0.009158846094425745}}, 'romance': {'tfidf': {'ndcg average': 0.006703564142796791}, 'word2vec': {'ndcg average': 0.012464054114885171}}}\n"
          ]
        }
      ]
    },
    {
      "cell_type": "markdown",
      "source": [
        "### Visualize the result"
      ],
      "metadata": {
        "id": "M081sRf-qlUY"
      }
    },
    {
      "cell_type": "code",
      "source": [
        "x_list = [1, 2, 3, 4]\n",
        "y_list = []\n",
        "for i in corpora:\n",
        "    y_list.append(results[i]['tfidf']['ndcg average'])\n",
        "    y_list.append(results[i]['word2vec']['ndcg average'])\n",
        "\n",
        "plt.bar(x_list, y_list)\n",
        "labels = ['TF-IDF news', 'Word2Vec news', 'TF-IDF romance', 'Word2Vec romance']\n",
        "plt.xticks(x_list, labels, rotation=20)\n",
        "plt.title('Tf-Idf and Word2vec on news and romance corpus')\n",
        "plt.xlabel('Models')\n",
        "plt.ylabel('mean nDCG score')\n",
        "plt.grid()\n",
        "plt.tight_layout()\n",
        "plt.savefig(osp.join(model_loc, f'result.png'))\n",
        "plt.show()"
      ],
      "metadata": {
        "colab": {
          "base_uri": "https://localhost:8080/",
          "height": 297
        },
        "id": "qHjC-1Llk-BR",
        "outputId": "6794e36d-9f08-4e75-ba71-2df1c9eeaf70"
      },
      "execution_count": 10,
      "outputs": [
        {
          "output_type": "display_data",
          "data": {
            "text/plain": [
              "<Figure size 432x288 with 1 Axes>"
            ],
            "image/png": "[encoded data removed]"
          },
          "metadata": {
            "needs_background": "light"
          }
        }
      ]
    }
  ]
}

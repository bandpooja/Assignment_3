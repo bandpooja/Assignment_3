{
 "cells": [
  {
   "cell_type": "code",
   "execution_count": 4,
   "id": "bcebe516",
   "metadata": {},
   "outputs": [
    {
     "name": "stdout",
     "output_type": "stream",
     "text": [
      "Requirement already satisfied: nltk==3.2.5 in c:\\users\\bandp\\anaconda3\\envs\\assignment2\\lib\\site-packages (3.2.5)\n",
      "Requirement already satisfied: six in c:\\users\\bandp\\anaconda3\\envs\\assignment2\\lib\\site-packages (from nltk==3.2.5) (1.16.0)\n"
     ]
    }
   ],
   "source": [
    "!conda activate Assignment2"
   ]
  },
  {
   "cell_type": "code",
   "execution_count": 6,
   "id": "7b8e63c8",
   "metadata": {},
   "outputs": [
    {
     "name": "stdout",
     "output_type": "stream",
     "text": [
      "showing info https://raw.githubusercontent.com/nltk/nltk_data/gh-pages/index.xml\n"
     ]
    },
    {
     "name": "stderr",
     "output_type": "stream",
     "text": [
      "[nltk_data] Downloading package brown to\n",
      "[nltk_data]     C:\\Users\\bandp\\AppData\\Roaming\\nltk_data...\n",
      "[nltk_data]   Package brown is already up-to-date!\n",
      "[nltk_data] Downloading package perluniprops to\n",
      "[nltk_data]     C:\\Users\\bandp\\AppData\\Roaming\\nltk_data...\n",
      "[nltk_data]   Package perluniprops is already up-to-date!\n"
     ]
    }
   ],
   "source": [
    "import nltk\n",
    "nltk.download()\n",
    "from assignment_3 import Assignment3"
   ]
  },
  {
   "cell_type": "code",
   "execution_count": null,
   "id": "44dc5103",
   "metadata": {},
   "outputs": [],
   "source": [
    "warnings.filterwarnings(\"ignore\")\n",
    "model_loc = 'result'\n",
    "corpora = ['news', 'romance']\n",
    "# load the simlex data\n",
    "\n",
    "results = {}\n",
    "for corpus in corpora:\n",
    "    results[corpus] = {}\n",
    "    model_loc_ = osp.join(model_loc, corpus)\n",
    "    os.makedirs(model_loc_, exist_ok=True)\n",
    "\n",
    "    exp = Assignment3(model_loc_, corpus=corpus, file_loc=r'result\\SimLex-999.txt')\n",
    "    exp.load_simlex_data()\n",
    "    exp.initiate_evaluator()\n",
    "    exp.load_data()\n",
    "    ms = exp.tfidf()\n",
    "    results[corpus]['tfidf'] = ms\n",
    "    ms = exp.word2vec()\n",
    "    results[corpus]['word2vec'] = ms\n",
    "\n",
    "# final bar-plot\n",
    "print(results)"
   ]
  },
  {
   "cell_type": "code",
   "execution_count": null,
   "id": "f3609ad0",
   "metadata": {},
   "outputs": [],
   "source": [
    "x_list = [1, 2, 3, 4]\n",
    "y_list = []\n",
    "for i in corpora:\n",
    "    y_list.append(results[i]['tfidf']['ndcg average'])\n",
    "    y_list.append(results[i]['word2vec']['ndcg average'])\n",
    "\n",
    "plt.plot(x_list, y_list)\n",
    "labels = ['TF-IDF news', 'Word2Vec news', 'TF-IDF romance', 'Word2Vec romance']\n",
    "plt.xticks(x_list, labels, rotation='horizontal')\n",
    "plt.title('Tf-Idf and Word2vec on news and romance corpus')\n",
    "plt.xlabel('Models')\n",
    "plt.ylabel('mean nDCG score')\n",
    "plt.savefig(osp.join(model_loc, f'result.png'))\n",
    "plt.close()"
   ]
  }
 ],
 "metadata": {
  "kernelspec": {
   "display_name": "Python 3 (ipykernel)",
   "language": "python",
   "name": "python3"
  },
  "language_info": {
   "codemirror_mode": {
    "name": "ipython",
    "version": 3
   },
   "file_extension": ".py",
   "mimetype": "text/x-python",
   "name": "python",
   "nbconvert_exporter": "python",
   "pygments_lexer": "ipython3",
   "version": "3.8.8"
  }
 },
 "nbformat": 4,
 "nbformat_minor": 5
}
